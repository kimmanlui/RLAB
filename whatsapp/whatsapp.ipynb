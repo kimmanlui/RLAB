{
 "cells": [
  {
   "cell_type": "code",
   "execution_count": 1,
   "metadata": {},
   "outputs": [],
   "source": [
    "\n",
    "\n",
    "from selenium import webdriver\n",
    "from selenium.webdriver.support.ui import WebDriverWait\n",
    "from selenium.webdriver.support.ui import Select\n",
    "from selenium.webdriver.common.by import By\n",
    "from selenium.webdriver.common.keys import Keys\n",
    "from selenium.webdriver.chrome.options import Options\n",
    "import time"
   ]
  },
  {
   "cell_type": "markdown",
   "metadata": {},
   "source": [
    "Reminder: Make sure the search_xpath and message_xpath are correct as they could be changed from time to time. "
   ]
  },
  {
   "cell_type": "code",
   "execution_count": 2,
   "metadata": {},
   "outputs": [],
   "source": [
    "def sendWhatsapp( contact, text):\n",
    "    search_xpath = \"/html/body/div/div[1]/div[1]/div[3]/div/div[1]/div/label/div/div[2]\"\n",
    "    search_xpath=\"//*[ text() = 'Search or start new chat' ]\"\n",
    "    input_box_search = WebDriverWait(driver,50).until(lambda driver: driver.find_element_by_xpath(search_xpath))\n",
    "    input_box_search.click()\n",
    "\n",
    "    time.sleep(2)\n",
    "    input_box_search.send_keys(contact)\n",
    "    time.sleep(2)\n",
    "\n",
    "    selected_contact = driver.find_element_by_xpath(\"//span[@title='\"+contact+\"']\")\n",
    "    selected_contact.click()\n",
    "\n",
    "    message_xpath = '/html/body/div/div[1]/div[1]/div[4]/div[1]/footer/div[1]/div[2]/div/div[2]'\n",
    "    input_box = driver.find_element_by_xpath(message_xpath)\n",
    "\n",
    "    time.sleep(2)\n",
    "    input_box.send_keys(text + Keys.ENTER)\n",
    "    time.sleep(2)"
   ]
  },
  {
   "cell_type": "code",
   "execution_count": 3,
   "metadata": {},
   "outputs": [
    {
     "name": "stdout",
     "output_type": "stream",
     "text": [
      "Scan QR Code, And then Enter\n"
     ]
    }
   ],
   "source": [
    "driver = webdriver.Chrome()\n",
    "driver.get(\"https://web.whatsapp.com\")\n",
    "print(\"Scan QR Code, And then Enter\")\n"
   ]
  },
  {
   "cell_type": "code",
   "execution_count": null,
   "metadata": {},
   "outputs": [],
   "source": []
  },
  {
   "cell_type": "code",
   "execution_count": null,
   "metadata": {},
   "outputs": [],
   "source": []
  },
  {
   "cell_type": "code",
   "execution_count": null,
   "metadata": {},
   "outputs": [],
   "source": []
  },
  {
   "cell_type": "code",
   "execution_count": 15,
   "metadata": {},
   "outputs": [],
   "source": []
  },
  {
   "cell_type": "code",
   "execution_count": null,
   "metadata": {},
   "outputs": [],
   "source": []
  },
  {
   "cell_type": "code",
   "execution_count": null,
   "metadata": {},
   "outputs": [],
   "source": []
  },
  {
   "cell_type": "code",
   "execution_count": 25,
   "metadata": {},
   "outputs": [],
   "source": [
    "mylist=[\"Polly\", \"C Piy Encrypt\"]"
   ]
  },
  {
   "cell_type": "code",
   "execution_count": 33,
   "metadata": {},
   "outputs": [],
   "source": [
    "mylist=[\"pw bosco yuen\"]"
   ]
  },
  {
   "cell_type": "code",
   "execution_count": 29,
   "metadata": {},
   "outputs": [],
   "source": [
    "mylist = [\"Terence Y W Chan\", \"Pw Edward\", \"Pw Alex Lo\", \"Pw Waiman\", \"Pw Simon Sze\", \"Pw Kenneth\", \n",
    "          \"PW Louise\", \"Pw Maverick\" , \"C wilson chan mingpao\", \"Pw Armstrong\", \"pw au-yeung bosco\", \"pw chung steve km\",\n",
    "          \"pw chan christine my\", \"Pw Gina\", \"Pw Lim Wilfred\", \"Pw Stephanie\", \"Pw William Ns\", \"Pw Aries\", \"Pw Antony\", \"Pw Jorden\"]"
   ]
  },
  {
   "cell_type": "code",
   "execution_count": 34,
   "metadata": {},
   "outputs": [],
   "source": [
    "text = \"My mobile number has been changed as \""
   ]
  },
  {
   "cell_type": "code",
   "execution_count": 35,
   "metadata": {},
   "outputs": [
    {
     "name": "stdout",
     "output_type": "stream",
     "text": [
      "pw bosco yuen\n"
     ]
    }
   ],
   "source": [
    "\n",
    "for x in mylist:\n",
    "    sendWhatsapp(x, text)  \n",
    "    print(x)\n",
    "    time.sleep(5)\n"
   ]
  },
  {
   "cell_type": "code",
   "execution_count": 36,
   "metadata": {},
   "outputs": [],
   "source": [
    "driver.quit()"
   ]
  },
  {
   "cell_type": "code",
   "execution_count": 9,
   "metadata": {},
   "outputs": [],
   "source": []
  },
  {
   "cell_type": "code",
   "execution_count": 11,
   "metadata": {},
   "outputs": [],
   "source": []
  },
  {
   "cell_type": "code",
   "execution_count": 13,
   "metadata": {},
   "outputs": [],
   "source": []
  },
  {
   "cell_type": "code",
   "execution_count": 14,
   "metadata": {},
   "outputs": [],
   "source": []
  },
  {
   "cell_type": "code",
   "execution_count": null,
   "metadata": {},
   "outputs": [],
   "source": []
  }
 ],
 "metadata": {
  "kernelspec": {
   "display_name": "Python 3",
   "language": "python",
   "name": "python3"
  },
  "language_info": {
   "codemirror_mode": {
    "name": "ipython",
    "version": 3
   },
   "file_extension": ".py",
   "mimetype": "text/x-python",
   "name": "python",
   "nbconvert_exporter": "python",
   "pygments_lexer": "ipython3",
   "version": "3.7.4"
  }
 },
 "nbformat": 4,
 "nbformat_minor": 4
}
