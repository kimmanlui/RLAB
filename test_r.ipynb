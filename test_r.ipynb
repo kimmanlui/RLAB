{
  "nbformat": 4,
  "nbformat_minor": 0,
  "metadata": {
    "colab": {
      "name": "test_r.ipynb",
      "provenance": [],
      "collapsed_sections": [],
      "authorship_tag": "ABX9TyNnHk2bH57AILsaAFzMqu6D",
      "include_colab_link": true
    },
    "kernelspec": {
      "name": "ir",
      "display_name": "R"
    },
    "language_info": {
      "name": "R"
    }
  },
  "cells": [
    {
      "cell_type": "markdown",
      "metadata": {
        "id": "view-in-github",
        "colab_type": "text"
      },
      "source": [
        "<a href=\"https://colab.research.google.com/github/kimmanlui/RLAB/blob/main/test_r.ipynb\" target=\"_parent\"><img src=\"https://colab.research.google.com/assets/colab-badge.svg\" alt=\"Open In Colab\"/></a>"
      ]
    },
    {
      "cell_type": "code",
      "execution_count": 1,
      "metadata": {
        "colab": {
          "base_uri": "https://localhost:8080/",
          "height": 531
        },
        "id": "wkV18ZH5xolz",
        "outputId": "ce8b5d34-fd37-435d-8d17-840b76a58b5d"
      },
      "outputs": [
        {
          "output_type": "display_data",
          "data": {
            "text/plain": [
              "$platform\n",
              "[1] \"x86_64-pc-linux-gnu\"\n",
              "\n",
              "$arch\n",
              "[1] \"x86_64\"\n",
              "\n",
              "$os\n",
              "[1] \"linux-gnu\"\n",
              "\n",
              "$system\n",
              "[1] \"x86_64, linux-gnu\"\n",
              "\n",
              "$status\n",
              "[1] \"\"\n",
              "\n",
              "$major\n",
              "[1] \"4\"\n",
              "\n",
              "$minor\n",
              "[1] \"1.2\"\n",
              "\n",
              "$year\n",
              "[1] \"2021\"\n",
              "\n",
              "$month\n",
              "[1] \"11\"\n",
              "\n",
              "$day\n",
              "[1] \"01\"\n",
              "\n",
              "$`svn rev`\n",
              "[1] \"81115\"\n",
              "\n",
              "$language\n",
              "[1] \"R\"\n",
              "\n",
              "$version.string\n",
              "[1] \"R version 4.1.2 (2021-11-01)\"\n",
              "\n",
              "$nickname\n",
              "[1] \"Bird Hippie\"\n"
            ],
            "text/latex": "\\begin{description}\n\\item[\\$platform] 'x86\\_64-pc-linux-gnu'\n\\item[\\$arch] 'x86\\_64'\n\\item[\\$os] 'linux-gnu'\n\\item[\\$system] 'x86\\_64, linux-gnu'\n\\item[\\$status] ''\n\\item[\\$major] '4'\n\\item[\\$minor] '1.2'\n\\item[\\$year] '2021'\n\\item[\\$month] '11'\n\\item[\\$day] '01'\n\\item[\\$`svn rev`] '81115'\n\\item[\\$language] 'R'\n\\item[\\$version.string] 'R version 4.1.2 (2021-11-01)'\n\\item[\\$nickname] 'Bird Hippie'\n\\end{description}\n",
            "text/markdown": "$platform\n:   'x86_64-pc-linux-gnu'\n$arch\n:   'x86_64'\n$os\n:   'linux-gnu'\n$system\n:   'x86_64, linux-gnu'\n$status\n:   ''\n$major\n:   '4'\n$minor\n:   '1.2'\n$year\n:   '2021'\n$month\n:   '11'\n$day\n:   '01'\n$`svn rev`\n:   '81115'\n$language\n:   'R'\n$version.string\n:   'R version 4.1.2 (2021-11-01)'\n$nickname\n:   'Bird Hippie'\n\n\n",
            "text/html": [
              "<dl>\n",
              "\t<dt>$platform</dt>\n",
              "\t\t<dd>'x86_64-pc-linux-gnu'</dd>\n",
              "\t<dt>$arch</dt>\n",
              "\t\t<dd>'x86_64'</dd>\n",
              "\t<dt>$os</dt>\n",
              "\t\t<dd>'linux-gnu'</dd>\n",
              "\t<dt>$system</dt>\n",
              "\t\t<dd>'x86_64, linux-gnu'</dd>\n",
              "\t<dt>$status</dt>\n",
              "\t\t<dd>''</dd>\n",
              "\t<dt>$major</dt>\n",
              "\t\t<dd>'4'</dd>\n",
              "\t<dt>$minor</dt>\n",
              "\t\t<dd>'1.2'</dd>\n",
              "\t<dt>$year</dt>\n",
              "\t\t<dd>'2021'</dd>\n",
              "\t<dt>$month</dt>\n",
              "\t\t<dd>'11'</dd>\n",
              "\t<dt>$day</dt>\n",
              "\t\t<dd>'01'</dd>\n",
              "\t<dt>$`svn rev`</dt>\n",
              "\t\t<dd>'81115'</dd>\n",
              "\t<dt>$language</dt>\n",
              "\t\t<dd>'R'</dd>\n",
              "\t<dt>$version.string</dt>\n",
              "\t\t<dd>'R version 4.1.2 (2021-11-01)'</dd>\n",
              "\t<dt>$nickname</dt>\n",
              "\t\t<dd>'Bird Hippie'</dd>\n",
              "</dl>\n"
            ]
          },
          "metadata": {}
        }
      ],
      "source": [
        "R.Version()"
      ]
    }
  ]
}