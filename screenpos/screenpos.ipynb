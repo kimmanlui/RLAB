{
 "cells": [
  {
   "cell_type": "code",
   "execution_count": 264,
   "metadata": {},
   "outputs": [],
   "source": [
    "import win32gui\n",
    "import win32con\n",
    "import subprocess\n",
    "import time\n",
    "import win32com.client\n",
    "from PIL import ImageGrab\n",
    "\n",
    "def findFirstMatch(word, winTitle ):\n",
    "    for i in range(len(winTitle)):\n",
    "        if word in winTitle[i]:\n",
    "            return(winTitle[i])\n",
    "        \n",
    "def listWinEnumHandler( hwnd, ctx ):\n",
    "    global x\n",
    "    if win32gui.IsWindowVisible( hwnd ):\n",
    "        title=win32gui.GetWindowText( hwnd )\n",
    "        winTitle.append(title)\n",
    "        #print (hex(hwnd), title)\n",
    "\n",
    "def windowEnumHandler(hwnd, top_windows):\n",
    "    top_windows.append((hwnd, win32gui.GetWindowText(hwnd)))\n",
    "\n",
    "def bringToFront(window_name):\n",
    "    top_windows = []\n",
    "    win32gui.EnumWindows(windowEnumHandler, top_windows)\n",
    "    for i in top_windows:\n",
    "        #print(i[1])\n",
    "        if window_name.lower() in i[1].lower():\n",
    "            # print(\"found\", window_name)\n",
    "            win32gui.ShowWindow(i[0], win32con.SW_SHOWNORMAL)\n",
    "            win32gui.ShowWindow(i[0], win32con.SW_RESTORE)\n",
    "            \n",
    "           \n",
    "            shell = win32com.client.Dispatch(\"WScript.Shell\")\n",
    "            shell.SendKeys('%')\n",
    "            win32gui.SetForegroundWindow(i[0])\n",
    "            \n",
    "            win32gui.BringWindowToTop(i[0])\n",
    "            win32gui.SetActiveWindow(i[0])\n",
    "            #win32gui.SetWindowPos(i[0],win32con.HWND_NOTOPMOST, 0, 0, 0, 0, win32con.SWP_NOMOVE + win32con.SWP_NOSIZE)  \n",
    "            #win32gui.SetWindowPos(i[0],win32con.HWND_TOPMOST, 0, 0, 0, 0, win32con.SWP_NOMOVE + win32con.SWP_NOSIZE)  \n",
    "            #win32gui.SetWindowPos(i[0],win32con.HWND_NOTOPMOST, 0, 0, 0, 0, win32con.SWP_SHOWWINDOW + win32con.SWP_NOMOVE + win32con.SWP_NOSIZE) \n",
    "\n",
    "            break\n"
   ]
  },
  {
   "cell_type": "code",
   "execution_count": null,
   "metadata": {},
   "outputs": [],
   "source": []
  },
  {
   "cell_type": "code",
   "execution_count": null,
   "metadata": {},
   "outputs": [],
   "source": []
  },
  {
   "cell_type": "code",
   "execution_count": 246,
   "metadata": {},
   "outputs": [],
   "source": [
    "import pickle\n",
    "\n",
    "def saveObj(obj):\n",
    "    f = open('/kimman/prj/timesheet/screenpos/store.pckl', 'wb')\n",
    "    pickle.dump(obj, f)\n",
    "    f.close()\n",
    "\n",
    "def loadObj():\n",
    "    f = open('/kimman/prj/timesheet/screenpos/store.pckl', 'rb')\n",
    "    obj = pickle.load(f)\n",
    "    f.close()\n",
    "    return(obj)\n",
    "        \n",
    "      "
   ]
  },
  {
   "cell_type": "code",
   "execution_count": null,
   "metadata": {},
   "outputs": [],
   "source": []
  },
  {
   "cell_type": "code",
   "execution_count": null,
   "metadata": {},
   "outputs": [],
   "source": [
    "\n"
   ]
  },
  {
   "cell_type": "markdown",
   "metadata": {},
   "source": [
    "REF\n",
    "https://stackoverflow.com/questions/55547940/how-to-get-a-list-of-the-name-of-every-open-window"
   ]
  },
  {
   "cell_type": "code",
   "execution_count": 247,
   "metadata": {},
   "outputs": [],
   "source": [
    "runStatus=loadObj()\n",
    "\n",
    "if runStatus==0:\n",
    "    notepad=[-431,868,350,100]\n",
    "    chrome=[645, 0, 805, 862]\n",
    "    outlook=[-431, 0, 1093, 868]\n",
    "if runStatus==1:\n",
    "    notepad=[-431,868,350,100]\n",
    "    chrome=[0, 0, 1450, 862]\n",
    "    outlook=[-985, 0, 993, 868]\n",
    "if runStatus==2:\n",
    "    #chrome=[300, 0, 1150, 862]\n",
    "    notepad=[0,0,700,989]\n",
    "    chrome=[685, 0, 1450, 862]\n",
    "    outlook=[-985, 0, 993, 868]    \n",
    "    \n",
    "if runStatus==0: \n",
    "    runStatus=1\n",
    "elif runStatus==1: \n",
    "    runStatus=2\n",
    "else: \n",
    "    runStatus=0\n",
    "\n",
    "saveObj(runStatus)   "
   ]
  },
  {
   "cell_type": "markdown",
   "metadata": {},
   "source": [
    "hwnd = win32gui.FindWindow(None, \"screenpos - Jupyter Notebook - Google Chrome\")\n",
    "rect = win32gui.GetWindowRect(hwnd)\n",
    "x = rect[0]\n",
    "y = rect[1]\n",
    "w = rect[2] - x\n",
    "h = rect[3] - y\n",
    "print(\"Window %s:\" % win32gui.GetWindowText(hwnd))\n",
    "print(\"\\tLocation: (%d, %d)\" % (x, y))\n",
    "print(\"\\t    Size: (%d, %d)\" % (w, h))"
   ]
  },
  {
   "cell_type": "code",
   "execution_count": 275,
   "metadata": {},
   "outputs": [],
   "source": [
    "winTitle = []\n",
    "win32gui.EnumWindows( listWinEnumHandler, None )"
   ]
  },
  {
   "cell_type": "code",
   "execution_count": 277,
   "metadata": {},
   "outputs": [],
   "source": [
    "program=findFirstMatch('Microsoft Outlook', winTitle)\n",
    "if program==None:\n",
    "    proc = subprocess.Popen([\"/PROGRA~2/MICROS~1/Office14/outlook.exe\"])\n",
    "    time.sleep(8)\n",
    "program=findFirstMatch('Mozilla Firefox', winTitle)\n",
    "if program==None:\n",
    "    proc = subprocess.Popen([\"/PROGRA~2/mozill~1/firefox.exe\"])\n",
    "    time.sleep(8) \n",
    "program=findFirstMatch('Google Chrome', winTitle)\n",
    "if program==None:\n",
    "    proc = subprocess.Popen([\"/PROGRA~2/Google/Chrome/Application/chrome.exe\"])\n",
    "    time.sleep(8) \n",
    "program=findFirstMatch('Explorer++', winTitle)\n",
    "if program==None:\n",
    "    proc = subprocess.Popen([\"/PROGRA~1/Explorerpp/Explorer++.exe\"])\n",
    "    time.sleep(8)     "
   ]
  },
  {
   "cell_type": "code",
   "execution_count": 269,
   "metadata": {},
   "outputs": [],
   "source": [
    "   \n",
    "\n",
    "winTitle = []\n",
    "win32gui.EnumWindows( listWinEnumHandler, None )"
   ]
  },
  {
   "cell_type": "code",
   "execution_count": 270,
   "metadata": {},
   "outputs": [],
   "source": [
    "program=findFirstMatch('Mozilla Firefox', winTitle)\n",
    "bringToFront(program)\n",
    "hwnd=win32gui.FindWindow(None, program)\n",
    "win32gui.MoveWindow(hwnd, -1284, 0, 866, 989, True)"
   ]
  },
  {
   "cell_type": "code",
   "execution_count": null,
   "metadata": {},
   "outputs": [],
   "source": [
    "  "
   ]
  },
  {
   "cell_type": "code",
   "execution_count": 271,
   "metadata": {},
   "outputs": [],
   "source": [
    "program=findFirstMatch('Explorer++', winTitle)\n",
    "bringToFront(program)\n",
    "hwnd=win32gui.FindWindow(None, program)\n",
    "win32gui.MoveWindow(hwnd, notepad[0], notepad[1], notepad[2], notepad[3], True)"
   ]
  },
  {
   "cell_type": "code",
   "execution_count": 272,
   "metadata": {},
   "outputs": [],
   "source": [
    "program=findFirstMatch('Microsoft Outlook', winTitle)\n",
    "bringToFront(program)\n",
    "hwnd=win32gui.FindWindow(None, program)\n",
    "win32gui.MoveWindow(hwnd, outlook[0], outlook[1], outlook[2], outlook[3], True)"
   ]
  },
  {
   "cell_type": "code",
   "execution_count": 215,
   "metadata": {},
   "outputs": [],
   "source": [
    "program=findFirstMatch('Google Chrome', winTitle)\n",
    "bringToFront(program)\n",
    "hwnd=win32gui.FindWindow(None, program)\n",
    "win32gui.MoveWindow(hwnd, chrome[0], chrome[1], chrome[2], chrome[3], True)"
   ]
  },
  {
   "cell_type": "code",
   "execution_count": 120,
   "metadata": {},
   "outputs": [],
   "source": [
    "\n",
    "#winTitle\n"
   ]
  },
  {
   "cell_type": "code",
   "execution_count": 188,
   "metadata": {},
   "outputs": [],
   "source": [
    "    notepad=[0,0,700,989]\n",
    "    chrome=[685, 0, 1450, 862]\n",
    "    outlook=[-985, 0, 993, 868] "
   ]
  },
  {
   "cell_type": "code",
   "execution_count": 144,
   "metadata": {},
   "outputs": [],
   "source": []
  },
  {
   "cell_type": "markdown",
   "metadata": {},
   "source": []
  },
  {
   "cell_type": "code",
   "execution_count": null,
   "metadata": {},
   "outputs": [],
   "source": []
  }
 ],
 "metadata": {
  "kernelspec": {
   "display_name": "Python 3",
   "language": "python",
   "name": "python3"
  },
  "language_info": {
   "codemirror_mode": {
    "name": "ipython",
    "version": 3
   },
   "file_extension": ".py",
   "mimetype": "text/x-python",
   "name": "python",
   "nbconvert_exporter": "python",
   "pygments_lexer": "ipython3",
   "version": "3.7.4"
  }
 },
 "nbformat": 4,
 "nbformat_minor": 2
}
